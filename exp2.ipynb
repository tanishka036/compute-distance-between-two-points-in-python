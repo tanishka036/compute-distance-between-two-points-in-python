{
 "cells": [
  {
   "cell_type": "code",
   "execution_count": 1,
   "id": "de4f11c5-8949-4036-9028-15c4fdc78985",
   "metadata": {},
   "outputs": [
    {
     "name": "stdout",
     "output_type": "stream",
     "text": [
      "1.414214\n"
     ]
    }
   ],
   "source": [
    "# Python3 program to calculate \n",
    "# distance between two points\n",
    "\n",
    "import math\n",
    "\n",
    "# Function to calculate distance\n",
    "def distance(x1 , y1 , x2 , y2):\n",
    "\n",
    "\t# Calculating distance\n",
    "\treturn math.sqrt(math.pow(x2 - x1, 2) +\n",
    "\t\t\t\tmath.pow(y2 - y1, 2) * 1.0)\n",
    "\n",
    "# Drivers Code\n",
    "print(\"%.6f\"%distance(3, 4, 4, 3))\n",
    "\n",
    "# This code is contributed by \"Sharad_Bhardwaj\".\n"
   ]
  },
  {
   "cell_type": "code",
   "execution_count": null,
   "id": "c1e62f1a-c0a9-46d9-ac10-fa8d51aa31ca",
   "metadata": {},
   "outputs": [],
   "source": [
    "//without using inbuilt library\n",
    "\n",
    "def distance(x1, y1, x2, y2):\n",
    "\n",
    "# Calculating distance\n",
    "\n",
    "return (((x2 - x1)**2 +(y2 - y1)**2)**0.5)\n",
    "\n",
    "# Drivers Code\n",
    "\n",
    "print( distance(3, 4, 4, 3))\n"
   ]
  }
 ],
 "metadata": {
  "kernelspec": {
   "display_name": "Python [conda env:base] *",
   "language": "python",
   "name": "conda-base-py"
  },
  "language_info": {
   "codemirror_mode": {
    "name": "ipython",
    "version": 3
   },
   "file_extension": ".py",
   "mimetype": "text/x-python",
   "name": "python",
   "nbconvert_exporter": "python",
   "pygments_lexer": "ipython3",
   "version": "3.12.7"
  }
 },
 "nbformat": 4,
 "nbformat_minor": 5
}
